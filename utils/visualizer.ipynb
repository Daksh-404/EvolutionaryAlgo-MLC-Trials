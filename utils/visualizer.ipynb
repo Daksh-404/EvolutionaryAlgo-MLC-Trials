{
 "cells": [
  {
   "cell_type": "code",
   "execution_count": 12,
   "id": "aa682600",
   "metadata": {},
   "outputs": [],
   "source": [
    "import pandas as pd\n",
    "from sklearn.linear_model import LogisticRegression\n",
    "import warnings\n",
    "from sklearn.metrics import hamming_loss, classification_report\n",
    "# from sklearn.metrics import precision_score, recall_score, confusion_matrix\n",
    "from sklearn.metrics import accuracy_score, label_ranking_loss, coverage_error, average_precision_score, zero_one_loss\n",
    "# from sklearn.metrics import roc_auc_score\n",
    "from sklearn.metrics import label_ranking_average_precision_score\n",
    "from sklearn.metrics import jaccard_score\n",
    "import numpy as np\n",
    "from sklearn.model_selection import train_test_split\n",
    "from sklearn.metrics import f1_score\n",
    "import time"
   ]
  },
  {
   "cell_type": "code",
   "execution_count": 3,
   "id": "76095869",
   "metadata": {},
   "outputs": [
    {
     "name": "stdout",
     "output_type": "stream",
     "text": [
      "(43907, 221)\n",
      "       Att1      Att2      Att3      Att4      Att5      Att6      Att7  \\\n",
      "0  0.030658  0.047593  0.045451  0.065483  0.016068  0.035765  0.072900   \n",
      "1  0.033065  0.051797  0.053786  0.071402  0.016497  0.037582  0.078430   \n",
      "2  0.033720  0.051995  0.047195  0.073210  0.018109  0.038647  0.078233   \n",
      "3  0.034193  0.054252  0.051919  0.071560  0.016731  0.036982  0.076624   \n",
      "4  0.034325  0.053388  0.054354  0.071372  0.015467  0.036048  0.077893   \n",
      "\n",
      "       Att8      Att9     Att10  ...  Class92  Class93  Class94  Class95  \\\n",
      "0  0.044825  0.023245  0.016258  ...        0        0        0        0   \n",
      "1  0.050040  0.023952  0.016882  ...        0        0        0        0   \n",
      "2  0.047599  0.026051  0.017771  ...        0        0        0        0   \n",
      "3  0.049038  0.025251  0.017339  ...        0        0        0        0   \n",
      "4  0.050154  0.023365  0.016654  ...        0        0        0        0   \n",
      "\n",
      "   Class96  Class97  Class98  Class99  Class100  Class101  \n",
      "0        0        0        0        0         0         0  \n",
      "1        0        0        0        0         0         0  \n",
      "2        0        0        0        0         0         0  \n",
      "3        0        0        0        0         0         0  \n",
      "4        0        0        0        0         0         0  \n",
      "\n",
      "[5 rows x 221 columns]\n"
     ]
    }
   ],
   "source": [
    "dset = pd.read_csv(\"../datasets/Mediamill/full_mediamill.csv\")\n",
    "print(dset.shape)\n",
    "print(dset.head(5))"
   ]
  },
  {
   "cell_type": "code",
   "execution_count": 7,
   "id": "f0d3af9d",
   "metadata": {},
   "outputs": [
    {
     "name": "stdout",
     "output_type": "stream",
     "text": [
      "Index(['Att1', 'Att2', 'Att3', 'Att4', 'Att5', 'Att6', 'Att7', 'Att8', 'Att9',\n",
      "       'Att10',\n",
      "       ...\n",
      "       'Att111', 'Att112', 'Att113', 'Att114', 'Att115', 'Att116', 'Att117',\n",
      "       'Att118', 'Att119', 'Att120'],\n",
      "      dtype='object', length=120)\n"
     ]
    }
   ],
   "source": [
    "dset_features = dset.iloc[:, : 120] # MEDIA MILL\n",
    "features = dset_features.columns\n",
    "print(features)"
   ]
  },
  {
   "cell_type": "code",
   "execution_count": 6,
   "id": "91c4c2c7",
   "metadata": {},
   "outputs": [
    {
     "name": "stdout",
     "output_type": "stream",
     "text": [
      "Index(['Class1', 'Class2', 'Class3', 'Class4', 'Class5', 'Class6', 'Class7',\n",
      "       'Class8', 'Class9', 'Class10',\n",
      "       ...\n",
      "       'Class92', 'Class93', 'Class94', 'Class95', 'Class96', 'Class97',\n",
      "       'Class98', 'Class99', 'Class100', 'Class101'],\n",
      "      dtype='object', length=101)\n"
     ]
    }
   ],
   "source": [
    "dset_classes = dset.iloc[:, 120 : ] # MEDIA MILL\n",
    "classes = dset_classes.columns\n",
    "print(classes)"
   ]
  },
  {
   "cell_type": "code",
   "execution_count": 19,
   "id": "c3948b53",
   "metadata": {},
   "outputs": [
    {
     "name": "stdout",
     "output_type": "stream",
     "text": [
      "(30734, 120) (30734, 101) (13173, 120) (13173, 101)\n",
      "           Att1      Att2      Att3      Att4      Att5      Att6      Att7  \\\n",
      "37062  0.508607  0.466852  0.412322  0.469361  0.250301  0.415183  0.386494   \n",
      "4615   0.353235  0.513883  0.610472  0.378967  0.135246  0.290312  0.356885   \n",
      "17989  0.437028  0.495769  0.469801  0.471598  0.218336  0.399824  0.386875   \n",
      "33459  0.494520  0.530252  0.499475  0.446194  0.219825  0.397601  0.387360   \n",
      "20613  0.447111  0.445545  0.425791  0.318707  0.228314  0.319065  0.287261   \n",
      "\n",
      "           Att8      Att9     Att10  ...    Att111    Att112    Att113  \\\n",
      "37062  0.475056  0.349070  0.321991  ...  0.578316  0.517407  0.566168   \n",
      "4615   0.526007  0.236003  0.199765  ...  0.612803  0.563426  0.608370   \n",
      "17989  0.523524  0.319068  0.273263  ...  0.619599  0.535333  0.603098   \n",
      "33459  0.527498  0.335922  0.304522  ...  0.637939  0.542455  0.584002   \n",
      "20613  0.402167  0.337585  0.316594  ...  0.559543  0.524971  0.529205   \n",
      "\n",
      "         Att114    Att115    Att116    Att117    Att118    Att119    Att120  \n",
      "37062  0.516881  0.492088  0.237170  0.578894  0.385929  0.593769  0.446284  \n",
      "4615   0.586517  0.570307  0.272519  0.610095  0.464794  0.633006  0.516860  \n",
      "17989  0.578075  0.538970  0.270504  0.623347  0.435093  0.634912  0.498841  \n",
      "33459  0.556028  0.521214  0.228206  0.602741  0.384336  0.610015  0.455010  \n",
      "20613  0.571623  0.538826  0.613973  0.513850  0.559451  0.578341  0.532427  \n",
      "\n",
      "[5 rows x 120 columns]\n",
      "       Class1  Class2  Class3  Class4  Class5  Class6  Class7  Class8  Class9  \\\n",
      "37062       0       0       0       0       0       0       0       0       0   \n",
      "4615        0       0       0       0       0       0       0       0       0   \n",
      "17989       0       0       0       0       0       0       0       0       0   \n",
      "33459       0       0       0       0       0       0       0       0       0   \n",
      "20613       0       0       0       0       0       0       0       0       0   \n",
      "\n",
      "       Class10  ...  Class92  Class93  Class94  Class95  Class96  Class97  \\\n",
      "37062        0  ...        0        0        1        0        1        0   \n",
      "4615         0  ...        0        0        0        0        0        0   \n",
      "17989        0  ...        0        0        0        0        0        0   \n",
      "33459        0  ...        0        0        0        0        0        0   \n",
      "20613        0  ...        0        0        0        0        0        0   \n",
      "\n",
      "       Class98  Class99  Class100  Class101  \n",
      "37062        0        0         0         0  \n",
      "4615         0        0         0         0  \n",
      "17989        0        0         0         0  \n",
      "33459        0        0         0         0  \n",
      "20613        0        0         0         0  \n",
      "\n",
      "[5 rows x 101 columns]\n"
     ]
    }
   ],
   "source": [
    "X_Train, X_Test, Y_Train_All, Y_Test_All = train_test_split(dset_features, dset_classes, test_size = 0.3)\n",
    "print(X_Train.shape, Y_Train_All.shape, X_Test.shape, Y_Test_All.shape)\n",
    "print(X_Train.head(5))\n",
    "print(Y_Train_All.head(5))"
   ]
  },
  {
   "cell_type": "code",
   "execution_count": 22,
   "id": "08ba0b91",
   "metadata": {},
   "outputs": [
    {
     "name": "stdout",
     "output_type": "stream",
     "text": [
      "<class 'pandas.core.frame.DataFrame'>\n"
     ]
    }
   ],
   "source": [
    "print(type(X_Train))"
   ]
  },
  {
   "cell_type": "code",
   "execution_count": null,
   "id": "5e76d717",
   "metadata": {},
   "outputs": [],
   "source": []
  }
 ],
 "metadata": {
  "kernelspec": {
   "display_name": "Python 3 (ipykernel)",
   "language": "python",
   "name": "python3"
  },
  "language_info": {
   "codemirror_mode": {
    "name": "ipython",
    "version": 3
   },
   "file_extension": ".py",
   "mimetype": "text/x-python",
   "name": "python",
   "nbconvert_exporter": "python",
   "pygments_lexer": "ipython3",
   "version": "3.11.0"
  }
 },
 "nbformat": 4,
 "nbformat_minor": 5
}
