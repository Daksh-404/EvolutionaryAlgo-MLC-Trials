{
 "cells": [
  {
   "cell_type": "code",
   "execution_count": 1,
   "id": "aa682600",
   "metadata": {},
   "outputs": [],
   "source": [
    "import pandas as pd\n",
    "from sklearn.linear_model import LogisticRegression\n",
    "import warnings\n",
    "import pandas as pd\n",
    "from scipy.io import arff\n",
    "from sklearn.metrics import hamming_loss, classification_report\n",
    "# from sklearn.metrics import precision_score, recall_score, confusion_matrix\n",
    "from sklearn.metrics import accuracy_score, label_ranking_loss, coverage_error, average_precision_score, zero_one_loss\n",
    "# from sklearn.metrics import roc_auc_score\n",
    "from sklearn.metrics import label_ranking_average_precision_score\n",
    "from sklearn.metrics import jaccard_score\n",
    "import numpy as np\n",
    "from sklearn.model_selection import train_test_split\n",
    "from sklearn.metrics import f1_score\n",
    "import time"
   ]
  },
  {
   "cell_type": "code",
   "execution_count": 3,
   "id": "76095869",
   "metadata": {},
   "outputs": [
    {
     "name": "stdout",
     "output_type": "stream",
     "text": [
      "(43907, 221)\n",
      "       Att1      Att2      Att3      Att4      Att5      Att6      Att7  \\\n",
      "0  0.030658  0.047593  0.045451  0.065483  0.016068  0.035765  0.072900   \n",
      "1  0.033065  0.051797  0.053786  0.071402  0.016497  0.037582  0.078430   \n",
      "2  0.033720  0.051995  0.047195  0.073210  0.018109  0.038647  0.078233   \n",
      "3  0.034193  0.054252  0.051919  0.071560  0.016731  0.036982  0.076624   \n",
      "4  0.034325  0.053388  0.054354  0.071372  0.015467  0.036048  0.077893   \n",
      "\n",
      "       Att8      Att9     Att10  ...  Class92  Class93  Class94  Class95  \\\n",
      "0  0.044825  0.023245  0.016258  ...        0        0        0        0   \n",
      "1  0.050040  0.023952  0.016882  ...        0        0        0        0   \n",
      "2  0.047599  0.026051  0.017771  ...        0        0        0        0   \n",
      "3  0.049038  0.025251  0.017339  ...        0        0        0        0   \n",
      "4  0.050154  0.023365  0.016654  ...        0        0        0        0   \n",
      "\n",
      "   Class96  Class97  Class98  Class99  Class100  Class101  \n",
      "0        0        0        0        0         0         0  \n",
      "1        0        0        0        0         0         0  \n",
      "2        0        0        0        0         0         0  \n",
      "3        0        0        0        0         0         0  \n",
      "4        0        0        0        0         0         0  \n",
      "\n",
      "[5 rows x 221 columns]\n"
     ]
    }
   ],
   "source": [
    "dset = pd.read_csv(\"../datasets/Mediamill/full_mediamill.csv\")\n",
    "print(dset.shape)\n",
    "print(dset.head(5))"
   ]
  },
  {
   "cell_type": "code",
   "execution_count": 7,
   "id": "f0d3af9d",
   "metadata": {},
   "outputs": [
    {
     "name": "stdout",
     "output_type": "stream",
     "text": [
      "Index(['Att1', 'Att2', 'Att3', 'Att4', 'Att5', 'Att6', 'Att7', 'Att8', 'Att9',\n",
      "       'Att10',\n",
      "       ...\n",
      "       'Att111', 'Att112', 'Att113', 'Att114', 'Att115', 'Att116', 'Att117',\n",
      "       'Att118', 'Att119', 'Att120'],\n",
      "      dtype='object', length=120)\n"
     ]
    }
   ],
   "source": [
    "dset_features = dset.iloc[:, : 120] # MEDIA MILL\n",
    "features = dset_features.columns\n",
    "print(features)"
   ]
  },
  {
   "cell_type": "code",
   "execution_count": 6,
   "id": "91c4c2c7",
   "metadata": {},
   "outputs": [
    {
     "name": "stdout",
     "output_type": "stream",
     "text": [
      "Index(['Class1', 'Class2', 'Class3', 'Class4', 'Class5', 'Class6', 'Class7',\n",
      "       'Class8', 'Class9', 'Class10',\n",
      "       ...\n",
      "       'Class92', 'Class93', 'Class94', 'Class95', 'Class96', 'Class97',\n",
      "       'Class98', 'Class99', 'Class100', 'Class101'],\n",
      "      dtype='object', length=101)\n"
     ]
    }
   ],
   "source": [
    "dset_classes = dset.iloc[:, 120 : ] # MEDIA MILL\n",
    "classes = dset_classes.columns\n",
    "print(classes)"
   ]
  },
  {
   "cell_type": "code",
   "execution_count": 19,
   "id": "c3948b53",
   "metadata": {},
   "outputs": [
    {
     "name": "stdout",
     "output_type": "stream",
     "text": [
      "(30734, 120) (30734, 101) (13173, 120) (13173, 101)\n",
      "           Att1      Att2      Att3      Att4      Att5      Att6      Att7  \\\n",
      "37062  0.508607  0.466852  0.412322  0.469361  0.250301  0.415183  0.386494   \n",
      "4615   0.353235  0.513883  0.610472  0.378967  0.135246  0.290312  0.356885   \n",
      "17989  0.437028  0.495769  0.469801  0.471598  0.218336  0.399824  0.386875   \n",
      "33459  0.494520  0.530252  0.499475  0.446194  0.219825  0.397601  0.387360   \n",
      "20613  0.447111  0.445545  0.425791  0.318707  0.228314  0.319065  0.287261   \n",
      "\n",
      "           Att8      Att9     Att10  ...    Att111    Att112    Att113  \\\n",
      "37062  0.475056  0.349070  0.321991  ...  0.578316  0.517407  0.566168   \n",
      "4615   0.526007  0.236003  0.199765  ...  0.612803  0.563426  0.608370   \n",
      "17989  0.523524  0.319068  0.273263  ...  0.619599  0.535333  0.603098   \n",
      "33459  0.527498  0.335922  0.304522  ...  0.637939  0.542455  0.584002   \n",
      "20613  0.402167  0.337585  0.316594  ...  0.559543  0.524971  0.529205   \n",
      "\n",
      "         Att114    Att115    Att116    Att117    Att118    Att119    Att120  \n",
      "37062  0.516881  0.492088  0.237170  0.578894  0.385929  0.593769  0.446284  \n",
      "4615   0.586517  0.570307  0.272519  0.610095  0.464794  0.633006  0.516860  \n",
      "17989  0.578075  0.538970  0.270504  0.623347  0.435093  0.634912  0.498841  \n",
      "33459  0.556028  0.521214  0.228206  0.602741  0.384336  0.610015  0.455010  \n",
      "20613  0.571623  0.538826  0.613973  0.513850  0.559451  0.578341  0.532427  \n",
      "\n",
      "[5 rows x 120 columns]\n",
      "       Class1  Class2  Class3  Class4  Class5  Class6  Class7  Class8  Class9  \\\n",
      "37062       0       0       0       0       0       0       0       0       0   \n",
      "4615        0       0       0       0       0       0       0       0       0   \n",
      "17989       0       0       0       0       0       0       0       0       0   \n",
      "33459       0       0       0       0       0       0       0       0       0   \n",
      "20613       0       0       0       0       0       0       0       0       0   \n",
      "\n",
      "       Class10  ...  Class92  Class93  Class94  Class95  Class96  Class97  \\\n",
      "37062        0  ...        0        0        1        0        1        0   \n",
      "4615         0  ...        0        0        0        0        0        0   \n",
      "17989        0  ...        0        0        0        0        0        0   \n",
      "33459        0  ...        0        0        0        0        0        0   \n",
      "20613        0  ...        0        0        0        0        0        0   \n",
      "\n",
      "       Class98  Class99  Class100  Class101  \n",
      "37062        0        0         0         0  \n",
      "4615         0        0         0         0  \n",
      "17989        0        0         0         0  \n",
      "33459        0        0         0         0  \n",
      "20613        0        0         0         0  \n",
      "\n",
      "[5 rows x 101 columns]\n"
     ]
    }
   ],
   "source": [
    "X_Train, X_Test, Y_Train_All, Y_Test_All = train_test_split(dset_features, dset_classes, test_size = 0.3)\n",
    "print(X_Train.shape, Y_Train_All.shape, X_Test.shape, Y_Test_All.shape)\n",
    "print(X_Train.head(5))\n",
    "print(Y_Train_All.head(5))"
   ]
  },
  {
   "cell_type": "code",
   "execution_count": 22,
   "id": "08ba0b91",
   "metadata": {},
   "outputs": [
    {
     "name": "stdout",
     "output_type": "stream",
     "text": [
      "<class 'pandas.core.frame.DataFrame'>\n"
     ]
    }
   ],
   "source": [
    "print(type(X_Train))"
   ]
  },
  {
   "cell_type": "markdown",
   "id": "3d582251",
   "metadata": {},
   "source": [
    "## Birds"
   ]
  },
  {
   "cell_type": "code",
   "execution_count": 14,
   "id": "5e76d717",
   "metadata": {},
   "outputs": [],
   "source": [
    "data_train = arff.loadarff(r'../Datasets/birds-train.arff')\n",
    "data_test = arff.loadarff(r'../Datasets/birds-test.arff')\n",
    "df_train = pd.DataFrame(data_train[0])\n",
    "df_test = pd.DataFrame(data_test[0])"
   ]
  },
  {
   "cell_type": "code",
   "execution_count": 16,
   "id": "07988aa0",
   "metadata": {},
   "outputs": [
    {
     "data": {
      "text/html": [
       "<div>\n",
       "<style scoped>\n",
       "    .dataframe tbody tr th:only-of-type {\n",
       "        vertical-align: middle;\n",
       "    }\n",
       "\n",
       "    .dataframe tbody tr th {\n",
       "        vertical-align: top;\n",
       "    }\n",
       "\n",
       "    .dataframe thead th {\n",
       "        text-align: right;\n",
       "    }\n",
       "</style>\n",
       "<table border=\"1\" class=\"dataframe\">\n",
       "  <thead>\n",
       "    <tr style=\"text-align: right;\">\n",
       "      <th></th>\n",
       "      <th>audio-ssd1</th>\n",
       "      <th>audio-ssd2</th>\n",
       "      <th>audio-ssd3</th>\n",
       "      <th>audio-ssd4</th>\n",
       "      <th>audio-ssd5</th>\n",
       "      <th>audio-ssd6</th>\n",
       "      <th>audio-ssd7</th>\n",
       "      <th>audio-ssd8</th>\n",
       "      <th>audio-ssd9</th>\n",
       "      <th>audio-ssd10</th>\n",
       "      <th>...</th>\n",
       "      <th>Hermit Warbler</th>\n",
       "      <th>Swainson\\'s Thrush</th>\n",
       "      <th>Hammond\\'s Flycatcher</th>\n",
       "      <th>Western Tanager</th>\n",
       "      <th>Black-headed Grosbeak</th>\n",
       "      <th>Golden Crowned Kinglet</th>\n",
       "      <th>Warbling Vireo</th>\n",
       "      <th>MacGillivray\\'s Warbler</th>\n",
       "      <th>Stellar\\'s Jay</th>\n",
       "      <th>Common Nighthawk</th>\n",
       "    </tr>\n",
       "  </thead>\n",
       "  <tbody>\n",
       "    <tr>\n",
       "      <th>0</th>\n",
       "      <td>0.016521</td>\n",
       "      <td>0.039926</td>\n",
       "      <td>0.089632</td>\n",
       "      <td>0.134119</td>\n",
       "      <td>0.170470</td>\n",
       "      <td>0.176872</td>\n",
       "      <td>0.171546</td>\n",
       "      <td>0.182392</td>\n",
       "      <td>0.162482</td>\n",
       "      <td>0.159083</td>\n",
       "      <td>...</td>\n",
       "      <td>b'0'</td>\n",
       "      <td>b'0'</td>\n",
       "      <td>b'1'</td>\n",
       "      <td>b'1'</td>\n",
       "      <td>b'0'</td>\n",
       "      <td>b'0'</td>\n",
       "      <td>b'0'</td>\n",
       "      <td>b'0'</td>\n",
       "      <td>b'0'</td>\n",
       "      <td>b'0'</td>\n",
       "    </tr>\n",
       "    <tr>\n",
       "      <th>1</th>\n",
       "      <td>0.006600</td>\n",
       "      <td>0.035984</td>\n",
       "      <td>0.089956</td>\n",
       "      <td>0.123214</td>\n",
       "      <td>0.172273</td>\n",
       "      <td>0.177068</td>\n",
       "      <td>0.165507</td>\n",
       "      <td>0.179655</td>\n",
       "      <td>0.161744</td>\n",
       "      <td>0.163678</td>\n",
       "      <td>...</td>\n",
       "      <td>b'0'</td>\n",
       "      <td>b'0'</td>\n",
       "      <td>b'0'</td>\n",
       "      <td>b'0'</td>\n",
       "      <td>b'0'</td>\n",
       "      <td>b'0'</td>\n",
       "      <td>b'0'</td>\n",
       "      <td>b'0'</td>\n",
       "      <td>b'0'</td>\n",
       "      <td>b'0'</td>\n",
       "    </tr>\n",
       "    <tr>\n",
       "      <th>2</th>\n",
       "      <td>0.006894</td>\n",
       "      <td>0.017722</td>\n",
       "      <td>0.048062</td>\n",
       "      <td>0.065802</td>\n",
       "      <td>0.103443</td>\n",
       "      <td>0.091397</td>\n",
       "      <td>0.084931</td>\n",
       "      <td>0.088666</td>\n",
       "      <td>0.075676</td>\n",
       "      <td>0.074408</td>\n",
       "      <td>...</td>\n",
       "      <td>b'0'</td>\n",
       "      <td>b'1'</td>\n",
       "      <td>b'0'</td>\n",
       "      <td>b'0'</td>\n",
       "      <td>b'0'</td>\n",
       "      <td>b'0'</td>\n",
       "      <td>b'0'</td>\n",
       "      <td>b'0'</td>\n",
       "      <td>b'0'</td>\n",
       "      <td>b'0'</td>\n",
       "    </tr>\n",
       "    <tr>\n",
       "      <th>3</th>\n",
       "      <td>0.031046</td>\n",
       "      <td>0.127675</td>\n",
       "      <td>0.221428</td>\n",
       "      <td>0.272707</td>\n",
       "      <td>0.358743</td>\n",
       "      <td>0.349389</td>\n",
       "      <td>0.316029</td>\n",
       "      <td>0.330656</td>\n",
       "      <td>0.310752</td>\n",
       "      <td>0.306288</td>\n",
       "      <td>...</td>\n",
       "      <td>b'0'</td>\n",
       "      <td>b'0'</td>\n",
       "      <td>b'0'</td>\n",
       "      <td>b'0'</td>\n",
       "      <td>b'0'</td>\n",
       "      <td>b'0'</td>\n",
       "      <td>b'0'</td>\n",
       "      <td>b'0'</td>\n",
       "      <td>b'0'</td>\n",
       "      <td>b'0'</td>\n",
       "    </tr>\n",
       "    <tr>\n",
       "      <th>4</th>\n",
       "      <td>0.064721</td>\n",
       "      <td>0.226644</td>\n",
       "      <td>0.304482</td>\n",
       "      <td>0.274662</td>\n",
       "      <td>0.346980</td>\n",
       "      <td>0.334063</td>\n",
       "      <td>0.307223</td>\n",
       "      <td>0.324666</td>\n",
       "      <td>0.297070</td>\n",
       "      <td>0.292258</td>\n",
       "      <td>...</td>\n",
       "      <td>b'0'</td>\n",
       "      <td>b'0'</td>\n",
       "      <td>b'0'</td>\n",
       "      <td>b'0'</td>\n",
       "      <td>b'0'</td>\n",
       "      <td>b'0'</td>\n",
       "      <td>b'0'</td>\n",
       "      <td>b'0'</td>\n",
       "      <td>b'0'</td>\n",
       "      <td>b'0'</td>\n",
       "    </tr>\n",
       "  </tbody>\n",
       "</table>\n",
       "<p>5 rows × 279 columns</p>\n",
       "</div>"
      ],
      "text/plain": [
       "   audio-ssd1  audio-ssd2  audio-ssd3  audio-ssd4  audio-ssd5  audio-ssd6  \\\n",
       "0    0.016521    0.039926    0.089632    0.134119    0.170470    0.176872   \n",
       "1    0.006600    0.035984    0.089956    0.123214    0.172273    0.177068   \n",
       "2    0.006894    0.017722    0.048062    0.065802    0.103443    0.091397   \n",
       "3    0.031046    0.127675    0.221428    0.272707    0.358743    0.349389   \n",
       "4    0.064721    0.226644    0.304482    0.274662    0.346980    0.334063   \n",
       "\n",
       "   audio-ssd7  audio-ssd8  audio-ssd9  audio-ssd10  ...  Hermit Warbler  \\\n",
       "0    0.171546    0.182392    0.162482     0.159083  ...            b'0'   \n",
       "1    0.165507    0.179655    0.161744     0.163678  ...            b'0'   \n",
       "2    0.084931    0.088666    0.075676     0.074408  ...            b'0'   \n",
       "3    0.316029    0.330656    0.310752     0.306288  ...            b'0'   \n",
       "4    0.307223    0.324666    0.297070     0.292258  ...            b'0'   \n",
       "\n",
       "   Swainson\\'s Thrush  Hammond\\'s Flycatcher  Western Tanager  \\\n",
       "0                b'0'                   b'1'             b'1'   \n",
       "1                b'0'                   b'0'             b'0'   \n",
       "2                b'1'                   b'0'             b'0'   \n",
       "3                b'0'                   b'0'             b'0'   \n",
       "4                b'0'                   b'0'             b'0'   \n",
       "\n",
       "   Black-headed Grosbeak  Golden Crowned Kinglet  Warbling Vireo  \\\n",
       "0                   b'0'                    b'0'            b'0'   \n",
       "1                   b'0'                    b'0'            b'0'   \n",
       "2                   b'0'                    b'0'            b'0'   \n",
       "3                   b'0'                    b'0'            b'0'   \n",
       "4                   b'0'                    b'0'            b'0'   \n",
       "\n",
       "   MacGillivray\\'s Warbler  Stellar\\'s Jay  Common Nighthawk  \n",
       "0                     b'0'            b'0'              b'0'  \n",
       "1                     b'0'            b'0'              b'0'  \n",
       "2                     b'0'            b'0'              b'0'  \n",
       "3                     b'0'            b'0'              b'0'  \n",
       "4                     b'0'            b'0'              b'0'  \n",
       "\n",
       "[5 rows x 279 columns]"
      ]
     },
     "execution_count": 16,
     "metadata": {},
     "output_type": "execute_result"
    }
   ],
   "source": [
    "df_train.head()"
   ]
  },
  {
   "cell_type": "code",
   "execution_count": 43,
   "id": "172b6a6c",
   "metadata": {},
   "outputs": [
    {
     "data": {
      "text/plain": [
       "0       b'1'\n",
       "1       b'1'\n",
       "2       b'1'\n",
       "3       b'1'\n",
       "4       b'1'\n",
       "       ...  \n",
       "317    b'17'\n",
       "318    b'17'\n",
       "319    b'17'\n",
       "320    b'17'\n",
       "321    b'17'\n",
       "Name: location, Length: 322, dtype: object"
      ]
     },
     "execution_count": 43,
     "metadata": {},
     "output_type": "execute_result"
    }
   ],
   "source": [
    "df_train.iloc[:, 259]"
   ]
  },
  {
   "cell_type": "code",
   "execution_count": null,
   "id": "27ee68e9",
   "metadata": {},
   "outputs": [],
   "source": []
  }
 ],
 "metadata": {
  "kernelspec": {
   "display_name": "Python 3 (ipykernel)",
   "language": "python",
   "name": "python3"
  },
  "language_info": {
   "codemirror_mode": {
    "name": "ipython",
    "version": 3
   },
   "file_extension": ".py",
   "mimetype": "text/x-python",
   "name": "python",
   "nbconvert_exporter": "python",
   "pygments_lexer": "ipython3",
   "version": "3.11.0"
  }
 },
 "nbformat": 4,
 "nbformat_minor": 5
}
